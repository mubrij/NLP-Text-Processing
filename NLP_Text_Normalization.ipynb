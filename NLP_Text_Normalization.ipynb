{
  "nbformat": 4,
  "nbformat_minor": 0,
  "metadata": {
    "colab": {
      "provenance": []
    },
    "kernelspec": {
      "name": "python3",
      "display_name": "Python 3"
    },
    "widgets": {
      "application/vnd.jupyter.widget-state+json": {
        "37f88da5c9d048349c4ddc32ba5c67e8": {
          "model_module": "@jupyter-widgets/controls",
          "model_name": "HBoxModel",
          "state": {
            "_view_name": "HBoxView",
            "_dom_classes": [],
            "_model_name": "HBoxModel",
            "_view_module": "@jupyter-widgets/controls",
            "_model_module_version": "1.5.0",
            "_view_count": null,
            "_view_module_version": "1.5.0",
            "box_style": "",
            "layout": "IPY_MODEL_090e088ee65941e39ae076867c704686",
            "_model_module": "@jupyter-widgets/controls",
            "children": [
              "IPY_MODEL_6af4ece0d7b84fe69f896df833362b4f",
              "IPY_MODEL_ec433b31d2b440dd89adf2ccb972c242"
            ]
          },
          "model_module_version": "1.5.0"
        },
        "090e088ee65941e39ae076867c704686": {
          "model_module": "@jupyter-widgets/base",
          "model_name": "LayoutModel",
          "state": {
            "_view_name": "LayoutView",
            "grid_template_rows": null,
            "right": null,
            "justify_content": null,
            "_view_module": "@jupyter-widgets/base",
            "overflow": null,
            "_model_module_version": "1.2.0",
            "_view_count": null,
            "flex_flow": null,
            "width": null,
            "min_width": null,
            "border": null,
            "align_items": null,
            "bottom": null,
            "_model_module": "@jupyter-widgets/base",
            "top": null,
            "grid_column": null,
            "overflow_y": null,
            "overflow_x": null,
            "grid_auto_flow": null,
            "grid_area": null,
            "grid_template_columns": null,
            "flex": null,
            "_model_name": "LayoutModel",
            "justify_items": null,
            "grid_row": null,
            "max_height": null,
            "align_content": null,
            "visibility": null,
            "align_self": null,
            "height": null,
            "min_height": null,
            "padding": null,
            "grid_auto_rows": null,
            "grid_gap": null,
            "max_width": null,
            "order": null,
            "_view_module_version": "1.2.0",
            "grid_template_areas": null,
            "object_position": null,
            "object_fit": null,
            "grid_auto_columns": null,
            "margin": null,
            "display": null,
            "left": null
          },
          "model_module_version": "1.2.0"
        },
        "6af4ece0d7b84fe69f896df833362b4f": {
          "model_module": "@jupyter-widgets/controls",
          "model_name": "IntProgressModel",
          "state": {
            "_view_name": "ProgressView",
            "style": "IPY_MODEL_408bedf807a042eaa045aad8eb630581",
            "_dom_classes": [],
            "description": "100%",
            "_model_name": "IntProgressModel",
            "bar_style": "success",
            "max": 6654,
            "_view_module": "@jupyter-widgets/controls",
            "_model_module_version": "1.5.0",
            "value": 6654,
            "_view_count": null,
            "_view_module_version": "1.5.0",
            "orientation": "horizontal",
            "min": 0,
            "description_tooltip": null,
            "_model_module": "@jupyter-widgets/controls",
            "layout": "IPY_MODEL_78c08fae47f142d9a71f42337a9eda07"
          },
          "model_module_version": "1.5.0"
        },
        "ec433b31d2b440dd89adf2ccb972c242": {
          "model_module": "@jupyter-widgets/controls",
          "model_name": "HTMLModel",
          "state": {
            "_view_name": "HTMLView",
            "style": "IPY_MODEL_150bb9e48313418d88a353e172c0e640",
            "_dom_classes": [],
            "description": "",
            "_model_name": "HTMLModel",
            "placeholder": "​",
            "_view_module": "@jupyter-widgets/controls",
            "_model_module_version": "1.5.0",
            "value": " 6654/6654 [00:00&lt;00:00, 23170.18it/s]",
            "_view_count": null,
            "_view_module_version": "1.5.0",
            "description_tooltip": null,
            "_model_module": "@jupyter-widgets/controls",
            "layout": "IPY_MODEL_bea42630034a4d26a51f79b14964c07b"
          },
          "model_module_version": "1.5.0"
        },
        "408bedf807a042eaa045aad8eb630581": {
          "model_module": "@jupyter-widgets/controls",
          "model_name": "ProgressStyleModel",
          "state": {
            "_view_name": "StyleView",
            "_model_name": "ProgressStyleModel",
            "description_width": "initial",
            "_view_module": "@jupyter-widgets/base",
            "_model_module_version": "1.5.0",
            "_view_count": null,
            "_view_module_version": "1.2.0",
            "bar_color": null,
            "_model_module": "@jupyter-widgets/controls"
          },
          "model_module_version": "1.5.0"
        },
        "78c08fae47f142d9a71f42337a9eda07": {
          "model_module": "@jupyter-widgets/base",
          "model_name": "LayoutModel",
          "state": {
            "_view_name": "LayoutView",
            "grid_template_rows": null,
            "right": null,
            "justify_content": null,
            "_view_module": "@jupyter-widgets/base",
            "overflow": null,
            "_model_module_version": "1.2.0",
            "_view_count": null,
            "flex_flow": null,
            "width": null,
            "min_width": null,
            "border": null,
            "align_items": null,
            "bottom": null,
            "_model_module": "@jupyter-widgets/base",
            "top": null,
            "grid_column": null,
            "overflow_y": null,
            "overflow_x": null,
            "grid_auto_flow": null,
            "grid_area": null,
            "grid_template_columns": null,
            "flex": null,
            "_model_name": "LayoutModel",
            "justify_items": null,
            "grid_row": null,
            "max_height": null,
            "align_content": null,
            "visibility": null,
            "align_self": null,
            "height": null,
            "min_height": null,
            "padding": null,
            "grid_auto_rows": null,
            "grid_gap": null,
            "max_width": null,
            "order": null,
            "_view_module_version": "1.2.0",
            "grid_template_areas": null,
            "object_position": null,
            "object_fit": null,
            "grid_auto_columns": null,
            "margin": null,
            "display": null,
            "left": null
          },
          "model_module_version": "1.2.0"
        },
        "150bb9e48313418d88a353e172c0e640": {
          "model_module": "@jupyter-widgets/controls",
          "model_name": "DescriptionStyleModel",
          "state": {
            "_view_name": "StyleView",
            "_model_name": "DescriptionStyleModel",
            "description_width": "",
            "_view_module": "@jupyter-widgets/base",
            "_model_module_version": "1.5.0",
            "_view_count": null,
            "_view_module_version": "1.2.0",
            "_model_module": "@jupyter-widgets/controls"
          },
          "model_module_version": "1.5.0"
        },
        "bea42630034a4d26a51f79b14964c07b": {
          "model_module": "@jupyter-widgets/base",
          "model_name": "LayoutModel",
          "state": {
            "_view_name": "LayoutView",
            "grid_template_rows": null,
            "right": null,
            "justify_content": null,
            "_view_module": "@jupyter-widgets/base",
            "overflow": null,
            "_model_module_version": "1.2.0",
            "_view_count": null,
            "flex_flow": null,
            "width": null,
            "min_width": null,
            "border": null,
            "align_items": null,
            "bottom": null,
            "_model_module": "@jupyter-widgets/base",
            "top": null,
            "grid_column": null,
            "overflow_y": null,
            "overflow_x": null,
            "grid_auto_flow": null,
            "grid_area": null,
            "grid_template_columns": null,
            "flex": null,
            "_model_name": "LayoutModel",
            "justify_items": null,
            "grid_row": null,
            "max_height": null,
            "align_content": null,
            "visibility": null,
            "align_self": null,
            "height": null,
            "min_height": null,
            "padding": null,
            "grid_auto_rows": null,
            "grid_gap": null,
            "max_width": null,
            "order": null,
            "_view_module_version": "1.2.0",
            "grid_template_areas": null,
            "object_position": null,
            "object_fit": null,
            "grid_auto_columns": null,
            "margin": null,
            "display": null,
            "left": null
          },
          "model_module_version": "1.2.0"
        },
        "8e2b8c62489a4e5f88e30661711b2cd4": {
          "model_module": "@jupyter-widgets/controls",
          "model_name": "HBoxModel",
          "state": {
            "_view_name": "HBoxView",
            "_dom_classes": [],
            "_model_name": "HBoxModel",
            "_view_module": "@jupyter-widgets/controls",
            "_model_module_version": "1.5.0",
            "_view_count": null,
            "_view_module_version": "1.5.0",
            "box_style": "",
            "layout": "IPY_MODEL_e4aef64c9ae0482bb4ab0cbe632226c6",
            "_model_module": "@jupyter-widgets/controls",
            "children": [
              "IPY_MODEL_f38c316c5d9343c49d00d0dcb473633d",
              "IPY_MODEL_56a760b511084d3cae02827600758c05"
            ]
          },
          "model_module_version": "1.5.0"
        },
        "e4aef64c9ae0482bb4ab0cbe632226c6": {
          "model_module": "@jupyter-widgets/base",
          "model_name": "LayoutModel",
          "state": {
            "_view_name": "LayoutView",
            "grid_template_rows": null,
            "right": null,
            "justify_content": null,
            "_view_module": "@jupyter-widgets/base",
            "overflow": null,
            "_model_module_version": "1.2.0",
            "_view_count": null,
            "flex_flow": null,
            "width": null,
            "min_width": null,
            "border": null,
            "align_items": null,
            "bottom": null,
            "_model_module": "@jupyter-widgets/base",
            "top": null,
            "grid_column": null,
            "overflow_y": null,
            "overflow_x": null,
            "grid_auto_flow": null,
            "grid_area": null,
            "grid_template_columns": null,
            "flex": null,
            "_model_name": "LayoutModel",
            "justify_items": null,
            "grid_row": null,
            "max_height": null,
            "align_content": null,
            "visibility": null,
            "align_self": null,
            "height": null,
            "min_height": null,
            "padding": null,
            "grid_auto_rows": null,
            "grid_gap": null,
            "max_width": null,
            "order": null,
            "_view_module_version": "1.2.0",
            "grid_template_areas": null,
            "object_position": null,
            "object_fit": null,
            "grid_auto_columns": null,
            "margin": null,
            "display": null,
            "left": null
          },
          "model_module_version": "1.2.0"
        },
        "f38c316c5d9343c49d00d0dcb473633d": {
          "model_module": "@jupyter-widgets/controls",
          "model_name": "IntProgressModel",
          "state": {
            "_view_name": "ProgressView",
            "style": "IPY_MODEL_25416b6cad8441428576f9a3428c7105",
            "_dom_classes": [],
            "description": "100%",
            "_model_name": "IntProgressModel",
            "bar_style": "success",
            "max": 6654,
            "_view_module": "@jupyter-widgets/controls",
            "_model_module_version": "1.5.0",
            "value": 6654,
            "_view_count": null,
            "_view_module_version": "1.5.0",
            "orientation": "horizontal",
            "min": 0,
            "description_tooltip": null,
            "_model_module": "@jupyter-widgets/controls",
            "layout": "IPY_MODEL_ff49b35e9b4546d99914dbcc3da274ad"
          },
          "model_module_version": "1.5.0"
        },
        "56a760b511084d3cae02827600758c05": {
          "model_module": "@jupyter-widgets/controls",
          "model_name": "HTMLModel",
          "state": {
            "_view_name": "HTMLView",
            "style": "IPY_MODEL_735a7edd5ffd4271a5eedf1377da6412",
            "_dom_classes": [],
            "description": "",
            "_model_name": "HTMLModel",
            "placeholder": "​",
            "_view_module": "@jupyter-widgets/controls",
            "_model_module_version": "1.5.0",
            "value": " 6654/6654 [00:00&lt;00:00, 72324.21it/s]",
            "_view_count": null,
            "_view_module_version": "1.5.0",
            "description_tooltip": null,
            "_model_module": "@jupyter-widgets/controls",
            "layout": "IPY_MODEL_baa260a271c64a2ca2bb85f9dc4d4739"
          },
          "model_module_version": "1.5.0"
        },
        "25416b6cad8441428576f9a3428c7105": {
          "model_module": "@jupyter-widgets/controls",
          "model_name": "ProgressStyleModel",
          "state": {
            "_view_name": "StyleView",
            "_model_name": "ProgressStyleModel",
            "description_width": "initial",
            "_view_module": "@jupyter-widgets/base",
            "_model_module_version": "1.5.0",
            "_view_count": null,
            "_view_module_version": "1.2.0",
            "bar_color": null,
            "_model_module": "@jupyter-widgets/controls"
          },
          "model_module_version": "1.5.0"
        },
        "ff49b35e9b4546d99914dbcc3da274ad": {
          "model_module": "@jupyter-widgets/base",
          "model_name": "LayoutModel",
          "state": {
            "_view_name": "LayoutView",
            "grid_template_rows": null,
            "right": null,
            "justify_content": null,
            "_view_module": "@jupyter-widgets/base",
            "overflow": null,
            "_model_module_version": "1.2.0",
            "_view_count": null,
            "flex_flow": null,
            "width": null,
            "min_width": null,
            "border": null,
            "align_items": null,
            "bottom": null,
            "_model_module": "@jupyter-widgets/base",
            "top": null,
            "grid_column": null,
            "overflow_y": null,
            "overflow_x": null,
            "grid_auto_flow": null,
            "grid_area": null,
            "grid_template_columns": null,
            "flex": null,
            "_model_name": "LayoutModel",
            "justify_items": null,
            "grid_row": null,
            "max_height": null,
            "align_content": null,
            "visibility": null,
            "align_self": null,
            "height": null,
            "min_height": null,
            "padding": null,
            "grid_auto_rows": null,
            "grid_gap": null,
            "max_width": null,
            "order": null,
            "_view_module_version": "1.2.0",
            "grid_template_areas": null,
            "object_position": null,
            "object_fit": null,
            "grid_auto_columns": null,
            "margin": null,
            "display": null,
            "left": null
          },
          "model_module_version": "1.2.0"
        },
        "735a7edd5ffd4271a5eedf1377da6412": {
          "model_module": "@jupyter-widgets/controls",
          "model_name": "DescriptionStyleModel",
          "state": {
            "_view_name": "StyleView",
            "_model_name": "DescriptionStyleModel",
            "description_width": "",
            "_view_module": "@jupyter-widgets/base",
            "_model_module_version": "1.5.0",
            "_view_count": null,
            "_view_module_version": "1.2.0",
            "_model_module": "@jupyter-widgets/controls"
          },
          "model_module_version": "1.5.0"
        },
        "baa260a271c64a2ca2bb85f9dc4d4739": {
          "model_module": "@jupyter-widgets/base",
          "model_name": "LayoutModel",
          "state": {
            "_view_name": "LayoutView",
            "grid_template_rows": null,
            "right": null,
            "justify_content": null,
            "_view_module": "@jupyter-widgets/base",
            "overflow": null,
            "_model_module_version": "1.2.0",
            "_view_count": null,
            "flex_flow": null,
            "width": null,
            "min_width": null,
            "border": null,
            "align_items": null,
            "bottom": null,
            "_model_module": "@jupyter-widgets/base",
            "top": null,
            "grid_column": null,
            "overflow_y": null,
            "overflow_x": null,
            "grid_auto_flow": null,
            "grid_area": null,
            "grid_template_columns": null,
            "flex": null,
            "_model_name": "LayoutModel",
            "justify_items": null,
            "grid_row": null,
            "max_height": null,
            "align_content": null,
            "visibility": null,
            "align_self": null,
            "height": null,
            "min_height": null,
            "padding": null,
            "grid_auto_rows": null,
            "grid_gap": null,
            "max_width": null,
            "order": null,
            "_view_module_version": "1.2.0",
            "grid_template_areas": null,
            "object_position": null,
            "object_fit": null,
            "grid_auto_columns": null,
            "margin": null,
            "display": null,
            "left": null
          },
          "model_module_version": "1.2.0"
        },
        "3c838f9bbc7d4958b755f50c81b43a45": {
          "model_module": "@jupyter-widgets/controls",
          "model_name": "HBoxModel",
          "state": {
            "_view_name": "HBoxView",
            "_dom_classes": [],
            "_model_name": "HBoxModel",
            "_view_module": "@jupyter-widgets/controls",
            "_model_module_version": "1.5.0",
            "_view_count": null,
            "_view_module_version": "1.5.0",
            "box_style": "",
            "layout": "IPY_MODEL_eef1150d706c407db1ea4c9ac7858b31",
            "_model_module": "@jupyter-widgets/controls",
            "children": [
              "IPY_MODEL_a80132e9a64b4a00ada2036ffb4eb98d",
              "IPY_MODEL_fd0c6fe203514f4b822d0e841070dd49"
            ]
          },
          "model_module_version": "1.5.0"
        },
        "eef1150d706c407db1ea4c9ac7858b31": {
          "model_module": "@jupyter-widgets/base",
          "model_name": "LayoutModel",
          "state": {
            "_view_name": "LayoutView",
            "grid_template_rows": null,
            "right": null,
            "justify_content": null,
            "_view_module": "@jupyter-widgets/base",
            "overflow": null,
            "_model_module_version": "1.2.0",
            "_view_count": null,
            "flex_flow": null,
            "width": null,
            "min_width": null,
            "border": null,
            "align_items": null,
            "bottom": null,
            "_model_module": "@jupyter-widgets/base",
            "top": null,
            "grid_column": null,
            "overflow_y": null,
            "overflow_x": null,
            "grid_auto_flow": null,
            "grid_area": null,
            "grid_template_columns": null,
            "flex": null,
            "_model_name": "LayoutModel",
            "justify_items": null,
            "grid_row": null,
            "max_height": null,
            "align_content": null,
            "visibility": null,
            "align_self": null,
            "height": null,
            "min_height": null,
            "padding": null,
            "grid_auto_rows": null,
            "grid_gap": null,
            "max_width": null,
            "order": null,
            "_view_module_version": "1.2.0",
            "grid_template_areas": null,
            "object_position": null,
            "object_fit": null,
            "grid_auto_columns": null,
            "margin": null,
            "display": null,
            "left": null
          },
          "model_module_version": "1.2.0"
        },
        "a80132e9a64b4a00ada2036ffb4eb98d": {
          "model_module": "@jupyter-widgets/controls",
          "model_name": "IntProgressModel",
          "state": {
            "_view_name": "ProgressView",
            "style": "IPY_MODEL_115d6f563b614a39b9cd24109dfe9203",
            "_dom_classes": [],
            "description": "100%",
            "_model_name": "IntProgressModel",
            "bar_style": "success",
            "max": 6654,
            "_view_module": "@jupyter-widgets/controls",
            "_model_module_version": "1.5.0",
            "value": 6654,
            "_view_count": null,
            "_view_module_version": "1.5.0",
            "orientation": "horizontal",
            "min": 0,
            "description_tooltip": null,
            "_model_module": "@jupyter-widgets/controls",
            "layout": "IPY_MODEL_925fb60c67a5417b8d90ed254036a92f"
          },
          "model_module_version": "1.5.0"
        },
        "fd0c6fe203514f4b822d0e841070dd49": {
          "model_module": "@jupyter-widgets/controls",
          "model_name": "HTMLModel",
          "state": {
            "_view_name": "HTMLView",
            "style": "IPY_MODEL_ab0d593cb8784ff1b1517efb5d2f2045",
            "_dom_classes": [],
            "description": "",
            "_model_name": "HTMLModel",
            "placeholder": "​",
            "_view_module": "@jupyter-widgets/controls",
            "_model_module_version": "1.5.0",
            "value": " 6654/6654 [40:02&lt;00:00,  2.77it/s]",
            "_view_count": null,
            "_view_module_version": "1.5.0",
            "description_tooltip": null,
            "_model_module": "@jupyter-widgets/controls",
            "layout": "IPY_MODEL_19e92616228948b7af092417e1349aad"
          },
          "model_module_version": "1.5.0"
        },
        "115d6f563b614a39b9cd24109dfe9203": {
          "model_module": "@jupyter-widgets/controls",
          "model_name": "ProgressStyleModel",
          "state": {
            "_view_name": "StyleView",
            "_model_name": "ProgressStyleModel",
            "description_width": "initial",
            "_view_module": "@jupyter-widgets/base",
            "_model_module_version": "1.5.0",
            "_view_count": null,
            "_view_module_version": "1.2.0",
            "bar_color": null,
            "_model_module": "@jupyter-widgets/controls"
          },
          "model_module_version": "1.5.0"
        },
        "925fb60c67a5417b8d90ed254036a92f": {
          "model_module": "@jupyter-widgets/base",
          "model_name": "LayoutModel",
          "state": {
            "_view_name": "LayoutView",
            "grid_template_rows": null,
            "right": null,
            "justify_content": null,
            "_view_module": "@jupyter-widgets/base",
            "overflow": null,
            "_model_module_version": "1.2.0",
            "_view_count": null,
            "flex_flow": null,
            "width": null,
            "min_width": null,
            "border": null,
            "align_items": null,
            "bottom": null,
            "_model_module": "@jupyter-widgets/base",
            "top": null,
            "grid_column": null,
            "overflow_y": null,
            "overflow_x": null,
            "grid_auto_flow": null,
            "grid_area": null,
            "grid_template_columns": null,
            "flex": null,
            "_model_name": "LayoutModel",
            "justify_items": null,
            "grid_row": null,
            "max_height": null,
            "align_content": null,
            "visibility": null,
            "align_self": null,
            "height": null,
            "min_height": null,
            "padding": null,
            "grid_auto_rows": null,
            "grid_gap": null,
            "max_width": null,
            "order": null,
            "_view_module_version": "1.2.0",
            "grid_template_areas": null,
            "object_position": null,
            "object_fit": null,
            "grid_auto_columns": null,
            "margin": null,
            "display": null,
            "left": null
          },
          "model_module_version": "1.2.0"
        },
        "ab0d593cb8784ff1b1517efb5d2f2045": {
          "model_module": "@jupyter-widgets/controls",
          "model_name": "DescriptionStyleModel",
          "state": {
            "_view_name": "StyleView",
            "_model_name": "DescriptionStyleModel",
            "description_width": "",
            "_view_module": "@jupyter-widgets/base",
            "_model_module_version": "1.5.0",
            "_view_count": null,
            "_view_module_version": "1.2.0",
            "_model_module": "@jupyter-widgets/controls"
          },
          "model_module_version": "1.5.0"
        },
        "19e92616228948b7af092417e1349aad": {
          "model_module": "@jupyter-widgets/base",
          "model_name": "LayoutModel",
          "state": {
            "_view_name": "LayoutView",
            "grid_template_rows": null,
            "right": null,
            "justify_content": null,
            "_view_module": "@jupyter-widgets/base",
            "overflow": null,
            "_model_module_version": "1.2.0",
            "_view_count": null,
            "flex_flow": null,
            "width": null,
            "min_width": null,
            "border": null,
            "align_items": null,
            "bottom": null,
            "_model_module": "@jupyter-widgets/base",
            "top": null,
            "grid_column": null,
            "overflow_y": null,
            "overflow_x": null,
            "grid_auto_flow": null,
            "grid_area": null,
            "grid_template_columns": null,
            "flex": null,
            "_model_name": "LayoutModel",
            "justify_items": null,
            "grid_row": null,
            "max_height": null,
            "align_content": null,
            "visibility": null,
            "align_self": null,
            "height": null,
            "min_height": null,
            "padding": null,
            "grid_auto_rows": null,
            "grid_gap": null,
            "max_width": null,
            "order": null,
            "_view_module_version": "1.2.0",
            "grid_template_areas": null,
            "object_position": null,
            "object_fit": null,
            "grid_auto_columns": null,
            "margin": null,
            "display": null,
            "left": null
          },
          "model_module_version": "1.2.0"
        },
        "7754ae07c80c4369955601b658dbf191": {
          "model_module": "@jupyter-widgets/controls",
          "model_name": "HBoxModel",
          "state": {
            "_view_name": "HBoxView",
            "_dom_classes": [],
            "_model_name": "HBoxModel",
            "_view_module": "@jupyter-widgets/controls",
            "_model_module_version": "1.5.0",
            "_view_count": null,
            "_view_module_version": "1.5.0",
            "box_style": "",
            "layout": "IPY_MODEL_a131cddbdfe6438aa12546839f26f8d5",
            "_model_module": "@jupyter-widgets/controls",
            "children": [
              "IPY_MODEL_00d51ab4b7b94f2aaf2a2eadb230fd95",
              "IPY_MODEL_9a9d192cd1b242be9fed4c3b1b0687ae"
            ]
          },
          "model_module_version": "1.5.0"
        },
        "a131cddbdfe6438aa12546839f26f8d5": {
          "model_module": "@jupyter-widgets/base",
          "model_name": "LayoutModel",
          "state": {
            "_view_name": "LayoutView",
            "grid_template_rows": null,
            "right": null,
            "justify_content": null,
            "_view_module": "@jupyter-widgets/base",
            "overflow": null,
            "_model_module_version": "1.2.0",
            "_view_count": null,
            "flex_flow": null,
            "width": null,
            "min_width": null,
            "border": null,
            "align_items": null,
            "bottom": null,
            "_model_module": "@jupyter-widgets/base",
            "top": null,
            "grid_column": null,
            "overflow_y": null,
            "overflow_x": null,
            "grid_auto_flow": null,
            "grid_area": null,
            "grid_template_columns": null,
            "flex": null,
            "_model_name": "LayoutModel",
            "justify_items": null,
            "grid_row": null,
            "max_height": null,
            "align_content": null,
            "visibility": null,
            "align_self": null,
            "height": null,
            "min_height": null,
            "padding": null,
            "grid_auto_rows": null,
            "grid_gap": null,
            "max_width": null,
            "order": null,
            "_view_module_version": "1.2.0",
            "grid_template_areas": null,
            "object_position": null,
            "object_fit": null,
            "grid_auto_columns": null,
            "margin": null,
            "display": null,
            "left": null
          },
          "model_module_version": "1.2.0"
        },
        "00d51ab4b7b94f2aaf2a2eadb230fd95": {
          "model_module": "@jupyter-widgets/controls",
          "model_name": "IntProgressModel",
          "state": {
            "_view_name": "ProgressView",
            "style": "IPY_MODEL_b4b10243c3664f40bf4b85dad8addd8b",
            "_dom_classes": [],
            "description": "100%",
            "_model_name": "IntProgressModel",
            "bar_style": "success",
            "max": 6654,
            "_view_module": "@jupyter-widgets/controls",
            "_model_module_version": "1.5.0",
            "value": 6654,
            "_view_count": null,
            "_view_module_version": "1.5.0",
            "orientation": "horizontal",
            "min": 0,
            "description_tooltip": null,
            "_model_module": "@jupyter-widgets/controls",
            "layout": "IPY_MODEL_1f75c198594b41c395d6789db2bfc6a4"
          },
          "model_module_version": "1.5.0"
        },
        "9a9d192cd1b242be9fed4c3b1b0687ae": {
          "model_module": "@jupyter-widgets/controls",
          "model_name": "HTMLModel",
          "state": {
            "_view_name": "HTMLView",
            "style": "IPY_MODEL_79cafe1441344ecca350486c95e51251",
            "_dom_classes": [],
            "description": "",
            "_model_name": "HTMLModel",
            "placeholder": "​",
            "_view_module": "@jupyter-widgets/controls",
            "_model_module_version": "1.5.0",
            "value": " 6654/6654 [33:20&lt;00:00,  3.33it/s]",
            "_view_count": null,
            "_view_module_version": "1.5.0",
            "description_tooltip": null,
            "_model_module": "@jupyter-widgets/controls",
            "layout": "IPY_MODEL_9f5759e528fd474499cb9eefb3e9c301"
          },
          "model_module_version": "1.5.0"
        },
        "b4b10243c3664f40bf4b85dad8addd8b": {
          "model_module": "@jupyter-widgets/controls",
          "model_name": "ProgressStyleModel",
          "state": {
            "_view_name": "StyleView",
            "_model_name": "ProgressStyleModel",
            "description_width": "initial",
            "_view_module": "@jupyter-widgets/base",
            "_model_module_version": "1.5.0",
            "_view_count": null,
            "_view_module_version": "1.2.0",
            "bar_color": null,
            "_model_module": "@jupyter-widgets/controls"
          },
          "model_module_version": "1.5.0"
        },
        "1f75c198594b41c395d6789db2bfc6a4": {
          "model_module": "@jupyter-widgets/base",
          "model_name": "LayoutModel",
          "state": {
            "_view_name": "LayoutView",
            "grid_template_rows": null,
            "right": null,
            "justify_content": null,
            "_view_module": "@jupyter-widgets/base",
            "overflow": null,
            "_model_module_version": "1.2.0",
            "_view_count": null,
            "flex_flow": null,
            "width": null,
            "min_width": null,
            "border": null,
            "align_items": null,
            "bottom": null,
            "_model_module": "@jupyter-widgets/base",
            "top": null,
            "grid_column": null,
            "overflow_y": null,
            "overflow_x": null,
            "grid_auto_flow": null,
            "grid_area": null,
            "grid_template_columns": null,
            "flex": null,
            "_model_name": "LayoutModel",
            "justify_items": null,
            "grid_row": null,
            "max_height": null,
            "align_content": null,
            "visibility": null,
            "align_self": null,
            "height": null,
            "min_height": null,
            "padding": null,
            "grid_auto_rows": null,
            "grid_gap": null,
            "max_width": null,
            "order": null,
            "_view_module_version": "1.2.0",
            "grid_template_areas": null,
            "object_position": null,
            "object_fit": null,
            "grid_auto_columns": null,
            "margin": null,
            "display": null,
            "left": null
          },
          "model_module_version": "1.2.0"
        },
        "79cafe1441344ecca350486c95e51251": {
          "model_module": "@jupyter-widgets/controls",
          "model_name": "DescriptionStyleModel",
          "state": {
            "_view_name": "StyleView",
            "_model_name": "DescriptionStyleModel",
            "description_width": "",
            "_view_module": "@jupyter-widgets/base",
            "_model_module_version": "1.5.0",
            "_view_count": null,
            "_view_module_version": "1.2.0",
            "_model_module": "@jupyter-widgets/controls"
          },
          "model_module_version": "1.5.0"
        },
        "9f5759e528fd474499cb9eefb3e9c301": {
          "model_module": "@jupyter-widgets/base",
          "model_name": "LayoutModel",
          "state": {
            "_view_name": "LayoutView",
            "grid_template_rows": null,
            "right": null,
            "justify_content": null,
            "_view_module": "@jupyter-widgets/base",
            "overflow": null,
            "_model_module_version": "1.2.0",
            "_view_count": null,
            "flex_flow": null,
            "width": null,
            "min_width": null,
            "border": null,
            "align_items": null,
            "bottom": null,
            "_model_module": "@jupyter-widgets/base",
            "top": null,
            "grid_column": null,
            "overflow_y": null,
            "overflow_x": null,
            "grid_auto_flow": null,
            "grid_area": null,
            "grid_template_columns": null,
            "flex": null,
            "_model_name": "LayoutModel",
            "justify_items": null,
            "grid_row": null,
            "max_height": null,
            "align_content": null,
            "visibility": null,
            "align_self": null,
            "height": null,
            "min_height": null,
            "padding": null,
            "grid_auto_rows": null,
            "grid_gap": null,
            "max_width": null,
            "order": null,
            "_view_module_version": "1.2.0",
            "grid_template_areas": null,
            "object_position": null,
            "object_fit": null,
            "grid_auto_columns": null,
            "margin": null,
            "display": null,
            "left": null
          },
          "model_module_version": "1.2.0"
        }
      }
    }
  },
  "cells": [
    {
      "cell_type": "markdown",
      "metadata": {
        "id": "UQV6UBUiLszV"
      },
      "source": [
        "# Setup"
      ]
    },
    {
      "cell_type": "code",
      "metadata": {
        "id": "-vqjFuW9zQ9x",
        "colab": {
          "base_uri": "https://localhost:8080/",
          "height": 119
        },
        "outputId": "c78c0936-0067-4b88-f50e-2f4da3729227"
      },
      "source": [
        "#Downloads\n",
        "!wget https://gist.githubusercontent.com/Sirsirious/8be85ad68bc03feba15aa4c7c12311eb/raw/ae47f298d46deb7906a552a66ba77f75455d61ec/censored_data_corona.txt\n",
        "!wget https://gist.githubusercontent.com/Sirsirious/c70400176a4532899a483e06d72cf99e/raw/e46fa7620c4f378f5bf39608b45cddad7ff447a4/english_contractions.json\n",
        "#Installs\n",
        "!pip install symspellpy"
      ],
      "execution_count": null,
      "outputs": [
        {
          "output_type": "stream",
          "text": [
            "Collecting symspellpy\n",
            "\u001b[?25l  Downloading https://files.pythonhosted.org/packages/6d/0b/2daa14bf1ed649fff0d072b2e51ae98d8b45cae6cf8fdda41be01ce6c289/symspellpy-6.5.2-py3-none-any.whl (2.6MB)\n",
            "\u001b[K     |████████████████████████████████| 2.6MB 3.4MB/s \n",
            "\u001b[?25hRequirement already satisfied: numpy>=1.13.1 in /usr/local/lib/python3.6/dist-packages (from symspellpy) (1.18.2)\n",
            "Installing collected packages: symspellpy\n",
            "Successfully installed symspellpy-6.5.2\n"
          ],
          "name": "stdout"
        }
      ]
    },
    {
      "cell_type": "code",
      "metadata": {
        "id": "BYiEFXb6r4jf"
      },
      "source": [
        "unormalized = []\n",
        "with open('censored_data_corona.txt') as f:\n",
        "    unormalized = [line.strip() for line in f.readlines() if line.strip()!='']"
      ],
      "execution_count": null,
      "outputs": []
    },
    {
      "cell_type": "markdown",
      "metadata": {
        "id": "qCKBY1-cLpom"
      },
      "source": [
        "# Normalization Functions"
      ]
    },
    {
      "cell_type": "code",
      "metadata": {
        "id": "m_Gi5l8Px8fQ"
      },
      "source": [
        "from symspellpy.symspellpy import SymSpell, Verbosity\n",
        "import pkg_resources\n",
        "import re, string, json\n",
        "import spacy\n",
        "from tqdm.notebook import tqdm\n",
        "\n",
        "def simplify_punctuation_and_whitespace(sentence_list):\n",
        "    norm_sents = []\n",
        "    print(\"Normalizing whitespaces and punctuation\")\n",
        "    for sentence in tqdm(sentence_list):\n",
        "        sent = _replace_urls(sentence)\n",
        "        sent = _simplify_punctuation(sentence)\n",
        "        sent = _normalize_whitespace(sent)\n",
        "        norm_sents.append(sent)\n",
        "    return norm_sents\n",
        "\n",
        "def _replace_urls(text):\n",
        "    url_regex = r'(https?:\\/\\/(?:www\\.|(?!www))[a-zA-Z0-9][a-zA-Z0-9-]+[a-zA-Z0-9]\\.[^\\s]{2,}|www\\.[a-zA-Z0-9][a-zA-Z0-9-]+[a-zA-Z0-9]\\.[^\\s]{2,}|https?:\\/\\/(?:www\\.|(?!www))[a-zA-Z0-9]+\\.[^\\s]{2,}|www\\.[a-zA-Z0-9]+\\.[^\\s]{2,})'\n",
        "    text = re.sub(url_regex, \"<URL>\", text)\n",
        "    return text\n",
        "\n",
        "def _simplify_punctuation(text):\n",
        "    \"\"\"\n",
        "    This function simplifies doubled or more complex punctuation. The exception is '...'.\n",
        "    \"\"\"\n",
        "    corrected = str(text)\n",
        "    corrected = re.sub(r'([!?,;])\\1+', r'\\1', corrected)\n",
        "    corrected = re.sub(r'\\.{2,}', r'...', corrected)\n",
        "    return corrected\n",
        "\n",
        "def _normalize_whitespace(text):\n",
        "    \"\"\"\n",
        "    This function normalizes whitespaces, removing duplicates.\n",
        "    \"\"\"\n",
        "    corrected = str(text)\n",
        "    corrected = re.sub(r\"//t\",r\"\\t\", corrected)\n",
        "    corrected = re.sub(r\"( )\\1+\",r\"\\1\", corrected)\n",
        "    corrected = re.sub(r\"(\\n)\\1+\",r\"\\1\", corrected)\n",
        "    corrected = re.sub(r\"(\\r)\\1+\",r\"\\1\", corrected)\n",
        "    corrected = re.sub(r\"(\\t)\\1+\",r\"\\1\", corrected)\n",
        "    return corrected.strip(\" \")\n",
        "\n",
        "def normalize_contractions(sentence_list):\n",
        "    contraction_list = json.loads(open('english_contractions.json', 'r').read())\n",
        "    norm_sents = []\n",
        "    print(\"Normalizing contractions\")\n",
        "    for sentence in tqdm(sentence_list):\n",
        "        norm_sents.append(_normalize_contractions_text(sentence, contraction_list))\n",
        "    return norm_sents\n",
        "\n",
        "def _normalize_contractions_text(text, contractions):\n",
        "    \"\"\"\n",
        "    This function normalizes english contractions.\n",
        "    \"\"\"\n",
        "    new_token_list = []\n",
        "    token_list = text.split()\n",
        "    for word_pos in range(len(token_list)):\n",
        "        word = token_list[word_pos]\n",
        "        first_upper = False\n",
        "        if word[0].isupper():\n",
        "            first_upper = True\n",
        "        if word.lower() in contractions:\n",
        "            replacement = contractions[word.lower()]\n",
        "            if first_upper:\n",
        "                replacement = replacement[0].upper()+replacement[1:]\n",
        "            replacement_tokens = replacement.split()\n",
        "            if len(replacement_tokens)>1:\n",
        "                new_token_list.append(replacement_tokens[0])\n",
        "                new_token_list.append(replacement_tokens[1])\n",
        "            else:\n",
        "                new_token_list.append(replacement_tokens[0])\n",
        "        else:\n",
        "            new_token_list.append(word)\n",
        "    sentence = \" \".join(new_token_list).strip(\" \")\n",
        "    return sentence\n",
        "\n",
        "def spell_correction(sentence_list):\n",
        "    max_edit_distance_dictionary= 3\n",
        "    prefix_length = 4\n",
        "    spellchecker = SymSpell(max_edit_distance_dictionary, prefix_length)\n",
        "    dictionary_path = pkg_resources.resource_filename(\n",
        "        \"symspellpy\", \"frequency_dictionary_en_82_765.txt\")\n",
        "    bigram_path = pkg_resources.resource_filename(\n",
        "        \"symspellpy\", \"frequency_bigramdictionary_en_243_342.txt\")\n",
        "    spellchecker.load_dictionary(dictionary_path, term_index=0, count_index=1)\n",
        "    spellchecker.load_bigram_dictionary(dictionary_path, term_index=0, count_index=2)\n",
        "    norm_sents = []\n",
        "    print(\"Spell correcting\")\n",
        "    for sentence in tqdm(sentence_list):\n",
        "        norm_sents.append(_spell_correction_text(sentence, spellchecker))\n",
        "    return norm_sents\n",
        "\n",
        "def _spell_correction_text(text, spellchecker):\n",
        "    \"\"\"\n",
        "    This function does very simple spell correction normalization using pyspellchecker module. It works over a tokenized sentence and only the token representations are changed.\n",
        "    \"\"\"\n",
        "    if len(text) < 1:\n",
        "        return \"\"\n",
        "    #Spell checker config\n",
        "    max_edit_distance_lookup = 2\n",
        "    suggestion_verbosity = Verbosity.TOP # TOP, CLOSEST, ALL\n",
        "    #End of Spell checker config\n",
        "    token_list = text.split()\n",
        "    for word_pos in range(len(token_list)):\n",
        "        word = token_list[word_pos]\n",
        "        if word is None:\n",
        "            token_list[word_pos] = \"\"\n",
        "            continue\n",
        "        if not '\\n' in word and word not in string.punctuation and not is_numeric(word) and not (word.lower() in spellchecker.words.keys()):\n",
        "            suggestions = spellchecker.lookup(word.lower(), suggestion_verbosity, max_edit_distance_lookup)\n",
        "            #Checks first uppercase to conserve the case.\n",
        "            upperfirst = word[0].isupper()\n",
        "            #Checks for correction suggestions.\n",
        "            if len(suggestions) > 0:\n",
        "                correction = suggestions[0].term\n",
        "                replacement = correction\n",
        "            #We call our _reduce_exaggerations function if no suggestion is found. Maybe there are repeated chars.\n",
        "            else:\n",
        "                replacement = _reduce_exaggerations(word)\n",
        "            #Takes the case back to the word.\n",
        "            if upperfirst:\n",
        "                replacement = replacement[0].upper()+replacement[1:]\n",
        "            word = replacement\n",
        "            token_list[word_pos] = word\n",
        "    return \" \".join(token_list).strip()\n",
        "\n",
        "def _reduce_exaggerations(text):\n",
        "    \"\"\"\n",
        "    Auxiliary function to help with exxagerated words.\n",
        "    Examples:\n",
        "        woooooords -> words\n",
        "        yaaaaaaaaaaaaaaay -> yay\n",
        "    \"\"\"\n",
        "    correction = str(text)\n",
        "    #TODO work on complexity reduction.\n",
        "    return re.sub(r'([\\w])\\1+', r'\\1', correction)\n",
        "\n",
        "def is_numeric(text):\n",
        "    for char in text:\n",
        "        if not (char in \"0123456789\" or char in \",%.$\"):\n",
        "            return False\n",
        "    return True\n",
        "\n",
        "def lemmatize(sentence_list):\n",
        "    nlp = spacy.load('en')\n",
        "    new_norm=[]\n",
        "    print(\"Lemmatizing Sentences\")\n",
        "    for sentence in tqdm(sentence_list):\n",
        "        new_norm.append(_lemmatize_text(sentence, nlp).strip())\n",
        "    return new_norm\n",
        "\n",
        "def _lemmatize_text(sentence, nlp):\n",
        "    sent = \"\"\n",
        "    doc = nlp(sentence)\n",
        "    for token in doc:\n",
        "        if '@' in token.text:\n",
        "            sent+=\" @MENTION\"\n",
        "        elif '#' in token.text:\n",
        "            sent+= \" #HASHTAG\"\n",
        "        else:\n",
        "            sent+=\" \"+token.lemma_\n",
        "    return sent\n",
        "\n",
        "def normalization_pipeline(sentences):\n",
        "    print(\"##############################\")\n",
        "    print(\"Starting Normalization Process\")\n",
        "    sentences = simplify_punctuation_and_whitespace(sentences)\n",
        "    sentences = normalize_contractions(sentences)\n",
        "    sentences = spell_correction(sentences)\n",
        "    sentences = lemmatize(sentences)\n",
        "    print(\"Normalization Process Finished\")\n",
        "    print(\"##############################\")\n",
        "    return sentences"
      ],
      "execution_count": null,
      "outputs": []
    },
    {
      "cell_type": "code",
      "metadata": {
        "id": "4460Q0GJ3iA8",
        "colab": {
          "base_uri": "https://localhost:8080/",
          "height": 349,
          "referenced_widgets": [
            "37f88da5c9d048349c4ddc32ba5c67e8",
            "090e088ee65941e39ae076867c704686",
            "6af4ece0d7b84fe69f896df833362b4f",
            "ec433b31d2b440dd89adf2ccb972c242",
            "408bedf807a042eaa045aad8eb630581",
            "78c08fae47f142d9a71f42337a9eda07",
            "150bb9e48313418d88a353e172c0e640",
            "bea42630034a4d26a51f79b14964c07b",
            "8e2b8c62489a4e5f88e30661711b2cd4",
            "e4aef64c9ae0482bb4ab0cbe632226c6",
            "f38c316c5d9343c49d00d0dcb473633d",
            "56a760b511084d3cae02827600758c05",
            "25416b6cad8441428576f9a3428c7105",
            "ff49b35e9b4546d99914dbcc3da274ad",
            "735a7edd5ffd4271a5eedf1377da6412",
            "baa260a271c64a2ca2bb85f9dc4d4739",
            "3c838f9bbc7d4958b755f50c81b43a45",
            "eef1150d706c407db1ea4c9ac7858b31",
            "a80132e9a64b4a00ada2036ffb4eb98d",
            "fd0c6fe203514f4b822d0e841070dd49",
            "115d6f563b614a39b9cd24109dfe9203",
            "925fb60c67a5417b8d90ed254036a92f",
            "ab0d593cb8784ff1b1517efb5d2f2045",
            "19e92616228948b7af092417e1349aad",
            "7754ae07c80c4369955601b658dbf191",
            "a131cddbdfe6438aa12546839f26f8d5",
            "00d51ab4b7b94f2aaf2a2eadb230fd95",
            "9a9d192cd1b242be9fed4c3b1b0687ae",
            "b4b10243c3664f40bf4b85dad8addd8b",
            "1f75c198594b41c395d6789db2bfc6a4",
            "79cafe1441344ecca350486c95e51251",
            "9f5759e528fd474499cb9eefb3e9c301"
          ]
        },
        "outputId": "e9cc117d-0ab8-4588-8134-a5a5e602dbdb"
      },
      "source": [
        "normalized = normalization_pipeline(unormalized)"
      ],
      "execution_count": null,
      "outputs": [
        {
          "output_type": "stream",
          "text": [
            "##############################\n",
            "Starting Normalization Process\n",
            "Normalizing whitespaces and punctuation\n"
          ],
          "name": "stdout"
        },
        {
          "output_type": "display_data",
          "data": {
            "application/vnd.jupyter.widget-view+json": {
              "model_id": "37f88da5c9d048349c4ddc32ba5c67e8",
              "version_minor": 0,
              "version_major": 2
            },
            "text/plain": [
              "HBox(children=(IntProgress(value=0, max=6654), HTML(value='')))"
            ]
          },
          "metadata": {
            "tags": []
          }
        },
        {
          "output_type": "stream",
          "text": [
            "\n",
            "Normalizing contractions\n"
          ],
          "name": "stdout"
        },
        {
          "output_type": "display_data",
          "data": {
            "application/vnd.jupyter.widget-view+json": {
              "model_id": "8e2b8c62489a4e5f88e30661711b2cd4",
              "version_minor": 0,
              "version_major": 2
            },
            "text/plain": [
              "HBox(children=(IntProgress(value=0, max=6654), HTML(value='')))"
            ]
          },
          "metadata": {
            "tags": []
          }
        },
        {
          "output_type": "stream",
          "text": [
            "\n",
            "Spell correcting\n"
          ],
          "name": "stdout"
        },
        {
          "output_type": "display_data",
          "data": {
            "application/vnd.jupyter.widget-view+json": {
              "model_id": "3c838f9bbc7d4958b755f50c81b43a45",
              "version_minor": 0,
              "version_major": 2
            },
            "text/plain": [
              "HBox(children=(IntProgress(value=0, max=6654), HTML(value='')))"
            ]
          },
          "metadata": {
            "tags": []
          }
        },
        {
          "output_type": "stream",
          "text": [
            "\n",
            "Lemmatizing Sentences\n"
          ],
          "name": "stdout"
        },
        {
          "output_type": "display_data",
          "data": {
            "application/vnd.jupyter.widget-view+json": {
              "model_id": "7754ae07c80c4369955601b658dbf191",
              "version_minor": 0,
              "version_major": 2
            },
            "text/plain": [
              "HBox(children=(IntProgress(value=0, max=6654), HTML(value='')))"
            ]
          },
          "metadata": {
            "tags": []
          }
        },
        {
          "output_type": "stream",
          "text": [
            "\n",
            "Normalization Process Finished\n",
            "##############################\n"
          ],
          "name": "stdout"
        }
      ]
    },
    {
      "cell_type": "markdown",
      "metadata": {
        "id": "iwEU81ksL1VU"
      },
      "source": [
        "# Creating Dataframes"
      ]
    },
    {
      "cell_type": "code",
      "metadata": {
        "id": "-C9mPV_kpX6a",
        "outputId": "4307a492-22f9-4d51-8c31-458281cf55b3",
        "colab": {
          "base_uri": "https://localhost:8080/",
          "height": 68
        }
      },
      "source": [
        "import pandas as pd\n",
        "unorm_df = pd.DataFrame(columns=['Text'], data=unormalized)\n",
        "norm_df = pd.DataFrame(columns=['Text'], data=normalized)\n",
        "print('Dataset sizes: \\nUnnormalized: {}\\nNormalized: {}'.format(len(unorm_df),len(norm_df)))"
      ],
      "execution_count": null,
      "outputs": [
        {
          "output_type": "stream",
          "text": [
            "Dataset sizes: \n",
            "Unnormalized: 6654\n",
            "Normalized: 6654\n"
          ],
          "name": "stdout"
        }
      ]
    },
    {
      "cell_type": "markdown",
      "metadata": {
        "id": "2iPx-ca2x1r9"
      },
      "source": [
        "# Counting Functions"
      ]
    },
    {
      "cell_type": "code",
      "metadata": {
        "id": "IivR6W7dpkV5"
      },
      "source": [
        "import re\n",
        "def basic_string_manipulation(text):\n",
        "    text = re.sub(r'[,;:?!-\\(\\)\\[\\].]+',' \\g<0> ', text)\n",
        "    return text\n",
        "\n",
        "def count_num_tokens(text):\n",
        "    tokens = text.split()\n",
        "    return len(tokens)\n",
        "\n",
        "def generate_dict_from_text(text):\n",
        "    tokens = text.split()\n",
        "    word_freq_dic= {}\n",
        "    for token in tokens:\n",
        "        word_freq_dic[token]= word_freq_dic.get(token, 1)+1\n",
        "    return word_freq_dic\n",
        "\n",
        "def num_distinct_tokens(text):\n",
        "    tokens = text.split()\n",
        "    dist_tokens = set()\n",
        "    for token in tokens:\n",
        "        dist_tokens.add(token)\n",
        "    return len(dist_tokens)\n",
        "\n",
        "def common_tokens(text, common_list):\n",
        "    tokens = text.split()\n",
        "    common_token_num = 0\n",
        "    for token in tokens:\n",
        "        if token in common_list:\n",
        "            common_token_num+=1\n",
        "    return common_token_num\n",
        "\n",
        "def get_most_used_tokens(token_dict):\n",
        "    #uses the 20-80 rule, where 20% of the words usually correspond to 80% of the total number of words.\n",
        "    total_num_words = sum(token_dict.values())\n",
        "    most_used = []\n",
        "    total_most_used = 0\n",
        "    word_iterator = iter(sorted(token_dict.items(), key=lambda x: x[1], reverse=True))\n",
        "    while total_most_used < total_num_words*0.8:\n",
        "        word_tuple = next(word_iterator)\n",
        "        most_used.append(word_tuple[0])\n",
        "        total_most_used+=word_tuple[1]\n",
        "    return most_used"
      ],
      "execution_count": null,
      "outputs": []
    },
    {
      "cell_type": "code",
      "metadata": {
        "id": "v9jA_YiAqq1o",
        "outputId": "25c337f5-83fc-4a29-aa7b-e00e99aa7aad",
        "colab": {
          "base_uri": "https://localhost:8080/",
          "height": 68
        }
      },
      "source": [
        "unorm_df['Preprocessed'] = unorm_df['Text'].apply(lambda x: basic_string_manipulation(x))\n",
        "norm_df['Preprocessed'] = norm_df['Text'].apply(lambda x: basic_string_manipulation(x))\n",
        "distinct_words_unorm= generate_dict_from_text(\" \".join(unorm_df['Preprocessed'].tolist()))\n",
        "distinct_words_norm= generate_dict_from_text(\" \".join(norm_df['Preprocessed'].tolist()))\n",
        "most_used_words_unorm = get_most_used_tokens(distinct_words_unorm)\n",
        "most_used_words_norm = get_most_used_tokens(distinct_words_norm)\n",
        "print(\"Distinct words in unnormalized: {} - 80% of the text correspond to {} distinct words. \\nDistinct words in normalized: {} - 80% of the text correspond to {} distinct words.\\n\".format(len(distinct_words_unorm),len(most_used_words_unorm),len(distinct_words_norm),len(most_used_words_norm)))"
      ],
      "execution_count": null,
      "outputs": [
        {
          "output_type": "stream",
          "text": [
            "Distinct words in unnormalized: 15233 - 80% of the text correspond to 4053 distinct words. \n",
            "Distinct words in normalized: 10437 - 80% of the text correspond to 1251 distinct words.\n",
            "\n"
          ],
          "name": "stdout"
        }
      ]
    },
    {
      "cell_type": "code",
      "metadata": {
        "id": "GBraQLpMwDHt"
      },
      "source": [
        "unorm_df['Size_in_Chars']=unorm_df['Text'].apply(lambda x: len(x))\n",
        "norm_df['Size_in_Chars']=norm_df['Text'].apply(lambda x: len(x))\n",
        "unorm_df['Size_in_Tokens']=unorm_df['Preprocessed'].apply(lambda x: count_num_tokens(x))\n",
        "norm_df['Size_in_Tokens']=norm_df['Preprocessed'].apply(lambda x: count_num_tokens(x))\n",
        "unorm_df['Num_distinct_Tokens']=unorm_df['Preprocessed'].apply(lambda x: num_distinct_tokens(x))\n",
        "norm_df['Num_distinct_Tokens']=norm_df['Preprocessed'].apply(lambda x: num_distinct_tokens(x))\n",
        "unorm_df['Common_tokens']=unorm_df['Preprocessed'].apply(lambda x: common_tokens(x, most_used_words_unorm))\n",
        "norm_df['Common_tokens']=norm_df['Preprocessed'].apply(lambda x: common_tokens(x, most_used_words_norm))\n",
        "unorm_df['Uncommon_tokens']=unorm_df['Size_in_Tokens']-unorm_df['Common_tokens']\n",
        "norm_df['Uncommon_tokens']=norm_df['Size_in_Tokens']-norm_df['Common_tokens']"
      ],
      "execution_count": null,
      "outputs": []
    },
    {
      "cell_type": "code",
      "metadata": {
        "id": "lnr8fdMZyF8w",
        "outputId": "94e68642-16f1-4305-e501-0a0846f09804",
        "colab": {
          "base_uri": "https://localhost:8080/",
          "height": 1000
        }
      },
      "source": [
        "from matplotlib import pyplot as plt\n",
        "import seaborn as sns\n",
        "%matplotlib inline\n",
        "#Size in Characters\n",
        "sns.distplot(unorm_df['Size_in_Chars'], label='Unnormalized')\n",
        "sns.distplot(norm_df['Size_in_Chars'], label='Normalized')\n",
        "plt.legend(loc='upper right')\n",
        "plt.title('Size in Characters per Sentence')\n",
        "plt.xlabel('Size')\n",
        "plt.ylabel('Frequency')\n",
        "plt.savefig('size_chars.png')\n",
        "plt.show()\n",
        "#Distinct Tokens\n",
        "sns.distplot(unorm_df['Num_distinct_Tokens'], label='Unnormalized')\n",
        "sns.distplot(norm_df['Num_distinct_Tokens'], label='Normalized')\n",
        "plt.legend(loc='upper right')\n",
        "plt.title('Number of Distinct Tokens per Sentence')\n",
        "plt.xlabel('Tokens')\n",
        "plt.ylabel('Frequency')\n",
        "plt.savefig('num_tokens.png')\n",
        "plt.show()\n",
        "#Number of common Tokens in Sentence\n",
        "sns.distplot(unorm_df['Common_tokens'], label='Unnormalized')\n",
        "sns.distplot(norm_df['Common_tokens'], label='Normalized')\n",
        "plt.legend(loc='upper right')\n",
        "plt.title('Number of Common Tokens in Sentence')\n",
        "plt.xlabel('Number of Tokens')\n",
        "plt.ylabel('Frequency')\n",
        "plt.savefig('common_tokens.png')\n",
        "plt.show()\n",
        "#Total Number of Distinct Tokens\n",
        "sns.barplot(x=[\"Unnormalized\",\"Normalized\"],y=[len(distinct_words_unorm), len(distinct_words_norm)], palette=\"deep\")\n",
        "plt.title('Total Distinct Tokens')\n",
        "plt.xlabel('File')\n",
        "plt.ylabel('Number of Tokens')\n",
        "plt.savefig('total_distinct_tokens.png')\n",
        "plt.show()\n",
        "#Total Number of Most Used Tokens (80%)\n",
        "sns.barplot(x=[\"Unnormalized\",\"Normalized\"],y=[len(most_used_words_unorm), len(most_used_words_norm)], palette=\"deep\")\n",
        "plt.title('Number of most used (80%) Tokens')\n",
        "plt.xlabel('File')\n",
        "plt.ylabel('Number of Tokens')\n",
        "plt.savefig('most_used_tokens.png')\n",
        "plt.show()\n",
        "#Violinplot\n",
        "sns.boxplot(x=[\"Unnormalized\",\"Normalized\"],y=[unorm_df['Common_tokens'],norm_df['Common_tokens']],palette=\"deep\")\n",
        "plt.title('Boxplot representing the distribution of Most Used Tokens')\n",
        "plt.xlabel('File')\n",
        "plt.ylabel('Number of Tokens')\n",
        "plt.savefig('boxplot_most_used_tokens.png')\n",
        "plt.show()\n",
        "#Violinplot\n",
        "sns.boxplot(x=[\"Unnormalized\",\"Normalized\"],y=[unorm_df['Num_distinct_Tokens'],norm_df['Num_distinct_Tokens']],palette=\"deep\")\n",
        "plt.title('Boxplot representing the distribution of Tokens')\n",
        "plt.xlabel('File')\n",
        "plt.ylabel('Number of Tokens')\n",
        "plt.savefig('boxplot_tokens.png')\n",
        "plt.show()"
      ],
      "execution_count": null,
      "outputs": [
        {
          "output_type": "display_data",
          "data": {
            "image/png": "[encoded data removed]",
            "text/plain": [
              "<Figure size 432x288 with 1 Axes>"
            ]
          },
          "metadata": {
            "tags": []
          }
        },
        {
          "output_type": "display_data",
          "data": {
            "image/png": "[encoded data removed]",
            "text/plain": [
              "<Figure size 432x288 with 1 Axes>"
            ]
          },
          "metadata": {
            "tags": []
          }
        },
        {
          "output_type": "display_data",
          "data": {
            "image/png": "[encoded data removed]",
            "text/plain": [
              "<Figure size 432x288 with 1 Axes>"
            ]
          },
          "metadata": {
            "tags": []
          }
        },
        {
          "output_type": "display_data",
          "data": {
            "image/png": "[encoded data removed]",
            "text/plain": [
              "<Figure size 432x288 with 1 Axes>"
            ]
          },
          "metadata": {
            "tags": []
          }
        },
        {
          "output_type": "display_data",
          "data": {
            "image/png": "[encoded data removed]",
            "text/plain": [
              "<Figure size 432x288 with 1 Axes>"
            ]
          },
          "metadata": {
            "tags": []
          }
        },
        {
          "output_type": "display_data",
          "data": {
            "image/png": "[encoded data removed]",
            "text/plain": [
              "<Figure size 432x288 with 1 Axes>"
            ]
          },
          "metadata": {
            "tags": []
          }
        },
        {
          "output_type": "display_data",
          "data": {
            "image/png": "[encoded data removed]",
            "text/plain": [
              "<Figure size 432x288 with 1 Axes>"
            ]
          },
          "metadata": {
            "tags": []
          }
        }
      ]
    }
  ]
}